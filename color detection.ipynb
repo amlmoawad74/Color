{
 "cells": [
  {
   "cell_type": "code",
   "execution_count": 1,
   "id": "8c2482e2",
   "metadata": {},
   "outputs": [],
   "source": [
    "import pandas as pd\n",
    "# Getting data and processing\n",
    "dataset = pd.read_csv('final_data.csv')\n",
    "dataset = pd.get_dummies(dataset, columns=['label'])\n",
    "dataset = dataset[[\n",
    "    'red', \n",
    "    'green', \n",
    "    'blue', \n",
    "    'label_Red', \n",
    "    'label_Green', \n",
    "    'label_Blue', \n",
    "    'label_Yellow', \n",
    "    'label_Orange', \n",
    "    'label_Pink', \n",
    "    'label_Purple', \n",
    "    'label_Brown', \n",
    "    'label_Grey', \n",
    "    'label_Black', \n",
    "    'label_White'\n",
    "]]"
   ]
  },
  {
   "cell_type": "code",
   "execution_count": 2,
   "id": "ebc1be2d",
   "metadata": {},
   "outputs": [],
   "source": [
    "# Split the data into train and test\n",
    "train_dataset = dataset.sample(frac=0.8, random_state=9)\n",
    "test_dataset = dataset.drop(train_dataset.index)"
   ]
  },
  {
   "cell_type": "code",
   "execution_count": 3,
   "id": "f7e3925b",
   "metadata": {},
   "outputs": [],
   "source": [
    "#Split features: `red`, `green`, `blue` and labels\n",
    "train_labels = pd.DataFrame([train_dataset.pop(x) for x in [\n",
    "    'label_Red', \n",
    "    'label_Green', \n",
    "    'label_Blue', \n",
    "    'label_Yellow', \n",
    "    'label_Orange', \n",
    "    'label_Pink', \n",
    "    'label_Purple', \n",
    "    'label_Brown', \n",
    "    'label_Grey', \n",
    "    'label_Black', \n",
    "    'label_White'\n",
    "]]).T\n",
    "\n",
    "test_labels = pd.DataFrame([test_dataset.pop(x) for x in [\n",
    "    'label_Red', \n",
    "    'label_Green', \n",
    "    'label_Blue', \n",
    "    'label_Yellow', \n",
    "    'label_Orange', \n",
    "    'label_Pink', \n",
    "    'label_Purple', \n",
    "    'label_Brown', \n",
    "    'label_Grey', \n",
    "    'label_Black', \n",
    "    'label_White'\n",
    "]]).T\n"
   ]
  },
  {
   "cell_type": "code",
   "execution_count": 4,
   "id": "23a410bb",
   "metadata": {},
   "outputs": [
    {
     "name": "stdout",
     "output_type": "stream",
     "text": [
      "WARNING:tensorflow:From C:\\Users\\user\\anaconda3\\Lib\\site-packages\\keras\\src\\losses.py:2976: The name tf.losses.sparse_softmax_cross_entropy is deprecated. Please use tf.compat.v1.losses.sparse_softmax_cross_entropy instead.\n",
      "\n",
      "WARNING:tensorflow:From C:\\Users\\user\\anaconda3\\Lib\\site-packages\\keras\\src\\backend.py:873: The name tf.get_default_graph is deprecated. Please use tf.compat.v1.get_default_graph instead.\n",
      "\n",
      "Model: \"sequential\"\n",
      "_________________________________________________________________\n",
      " Layer (type)                Output Shape              Param #   \n",
      "=================================================================\n",
      " dense (Dense)               (None, 3)                 12        \n",
      "                                                                 \n",
      " dense_1 (Dense)             (None, 32)                128       \n",
      "                                                                 \n",
      " dense_2 (Dense)             (None, 11)                363       \n",
      "                                                                 \n",
      "=================================================================\n",
      "Total params: 503 (1.96 KB)\n",
      "Trainable params: 503 (1.96 KB)\n",
      "Non-trainable params: 0 (0.00 Byte)\n",
      "_________________________________________________________________\n"
     ]
    }
   ],
   "source": [
    "import tensorflow as tf\n",
    "from tensorflow import keras\n",
    "from tensorflow.keras import layers\n",
    "\n",
    "# Model\n",
    "model = keras.Sequential([\n",
    "    layers.Dense(3, activation='relu', input_shape=[len(train_dataset.keys())]),\n",
    "    layers.Dense(32, activation='relu'),\n",
    "    layers.Dense(11)\n",
    "  ])\n",
    "\n",
    "optimizer = keras.optimizers.Adam(learning_rate=0.001)\n",
    "loss_function = tf.keras.losses.CategoricalCrossentropy(from_logits=True)\n",
    "model.compile(loss=loss_function, optimizer=optimizer, metrics=['accuracy'])\n",
    "model.summary()"
   ]
  },
  {
   "cell_type": "code",
   "execution_count": 5,
   "id": "cc498e1d",
   "metadata": {},
   "outputs": [
    {
     "name": "stdout",
     "output_type": "stream",
     "text": [
      "WARNING:tensorflow:From C:\\Users\\user\\anaconda3\\Lib\\site-packages\\keras\\src\\utils\\tf_utils.py:492: The name tf.ragged.RaggedTensorValue is deprecated. Please use tf.compat.v1.ragged.RaggedTensorValue instead.\n",
      "\n",
      "WARNING:tensorflow:From C:\\Users\\user\\anaconda3\\Lib\\site-packages\\keras\\src\\engine\\base_layer_utils.py:384: The name tf.executing_eagerly_outside_functions is deprecated. Please use tf.compat.v1.executing_eagerly_outside_functions instead.\n",
      "\n",
      "Epoch 320: early stopping\n"
     ]
    },
    {
     "name": "stderr",
     "output_type": "stream",
     "text": [
      "C:\\Users\\user\\anaconda3\\Lib\\site-packages\\keras\\src\\engine\\training.py:3103: UserWarning: You are saving your model as an HDF5 file via `model.save()`. This file format is considered legacy. We recommend using instead the native Keras format, e.g. `model.save('my_model.keras')`.\n",
      "  saving_api.save_model(\n"
     ]
    }
   ],
   "source": [
    "from tensorflow.keras.callbacks import EarlyStopping\n",
    "# Train the model\n",
    "early_stop = EarlyStopping(monitor='val_loss', mode='min', verbose=1, min_delta=0.01, patience=100)\n",
    "history = model.fit(x=train_dataset, y=train_labels, \n",
    "                    validation_split=0.2, \n",
    "                    epochs=1000, \n",
    "                    batch_size=32, \n",
    "                    verbose=0,\n",
    "                    callbacks=[early_stop], \n",
    "                    shuffle=True)\n",
    "\n",
    "model.save('model.h5')"
   ]
  },
  {
   "cell_type": "code",
   "execution_count": 6,
   "id": "4fcc0825",
   "metadata": {},
   "outputs": [
    {
     "name": "stdout",
     "output_type": "stream",
     "text": [
      "127/127 [==============================] - 0s 1ms/step - loss: 0.4819 - accuracy: 0.8105\n"
     ]
    },
    {
     "data": {
      "text/plain": [
       "[0.48192286491394043, 0.81048983335495]"
      ]
     },
     "execution_count": 6,
     "metadata": {},
     "output_type": "execute_result"
    }
   ],
   "source": [
    "model.evaluate(x=train_dataset, y=train_labels)"
   ]
  },
  {
   "cell_type": "code",
   "execution_count": 7,
   "id": "edb9e8e9",
   "metadata": {},
   "outputs": [
    {
     "name": "stdout",
     "output_type": "stream",
     "text": [
      "32/32 [==============================] - 0s 1ms/step - loss: 0.4645 - accuracy: 0.8158\n"
     ]
    },
    {
     "data": {
      "text/plain": [
       "[0.4644674062728882, 0.815841555595398]"
      ]
     },
     "execution_count": 7,
     "metadata": {},
     "output_type": "execute_result"
    }
   ],
   "source": [
    "model.evaluate(x=test_dataset, y=test_labels)"
   ]
  },
  {
   "cell_type": "code",
   "execution_count": null,
   "id": "2ce5b6ba",
   "metadata": {},
   "outputs": [],
   "source": []
  }
 ],
 "metadata": {
  "kernelspec": {
   "display_name": "Python 3 (ipykernel)",
   "language": "python",
   "name": "python3"
  },
  "language_info": {
   "codemirror_mode": {
    "name": "ipython",
    "version": 3
   },
   "file_extension": ".py",
   "mimetype": "text/x-python",
   "name": "python",
   "nbconvert_exporter": "python",
   "pygments_lexer": "ipython3",
   "version": "3.11.5"
  }
 },
 "nbformat": 4,
 "nbformat_minor": 5
}
